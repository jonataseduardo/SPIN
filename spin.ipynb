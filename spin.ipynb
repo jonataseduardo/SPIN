{
 "metadata": {
  "name": ""
 },
 "nbformat": 3,
 "nbformat_minor": 0,
 "worksheets": [
  {
   "cells": [
    {
     "cell_type": "code",
     "collapsed": false,
     "input": [
      "import numpy as np\n",
      "import pandas as pd \n",
      "import matplotlib.pyplot as plt\n",
      "from sklearn.datasets import make_classification\n",
      "from sklearn.datasets import load_iris\n",
      "from scipy.spatial.distance import pdist\n",
      "from scipy.spatial.distance import squareform\n",
      "from IPython.core.display import Image \n",
      "from scipy.stats import scoreatpercentile"
     ],
     "language": "python",
     "metadata": {},
     "outputs": [],
     "prompt_number": 1
    },
    {
     "cell_type": "code",
     "collapsed": false,
     "input": [
      "def matrix_plot( X, y=None, ticklabels= None):\n",
      "    fig = plt.figure()\n",
      "    ax1 = fig.add_axes([0,.05,1,1])\n",
      "    palette = plt.cm.jet\n",
      "    #palette.set_under('b')\n",
      "    #palette.set_over('r')\n",
      "    im = ax1.matshow(X,cmap=palette\n",
      "                   # ,vmin=scoreatpercentile(X,2)\n",
      "                    #,vmax=scoreatpercentile(X,98)\n",
      "                    ,aspect='auto'\n",
      "                    )\n",
      "    ax1.tick_params(length=0)\n",
      "    \n",
      "    if ticklabels == None:\n",
      "        ax1.set_xticks([])\n",
      "        ax1.set_yticks([]) \n",
      "    else:      \n",
      "        ax1.xaxis.tick_top()\n",
      "        ax1.set_xticklabels(ticklabels,rotation='vertical')\n",
      "        ax1.set_yticklabels(ticklabels)\n",
      "        ax1.set_xticks(np.arange(len(X)) + 0.55, minor=False)\n",
      "        ax1.set_yticks(np.arange(len(X)) + 0.5, minor=False)\n",
      "\n",
      "    if y != None:    \n",
      "        ax2 = fig.add_axes([0,0,1,.04])\n",
      "        \n",
      "        pallete2 = plt.cm.Paired\n",
      "        y = np.array(y).reshape(1,len(y))\n",
      "        im2 = ax2.matshow(y\n",
      "                   ,cmap = pallete2\n",
      "                   ,aspect = 'auto'\n",
      "                    )\n",
      "\n",
      "        ax2.set_xticks([])\n",
      "        ax2.set_yticks([])\n",
      "\n",
      "        ax2.tick_params(length=0)\n",
      "        \n",
      "        #cax2 = fig.add_axes([1.04,0.0,0.05,0.15])\n",
      "        #fig.colorbar(im2,cax=cax2)\n",
      "\n",
      "    cax = fig.add_axes([1.04,0.2,0.05,0.8])\n",
      "    \n",
      "    fig.colorbar(im,cax=cax)\n"
     ],
     "language": "python",
     "metadata": {},
     "outputs": [],
     "prompt_number": 2
    },
    {
     "cell_type": "code",
     "collapsed": false,
     "input": [
      "def neighborhood_sort( dist_matrix, sigma, weight_matrix = None):\n",
      "    mat_size = len(dist_matrix)\n",
      "    if sigma < 2: \n",
      "        if sigma < 0:\n",
      "            print \"Erro\"\n",
      "        sigma = 1\n",
      "            \n",
      "    if weight_matrix == None:\n",
      "        weight_matrix = make_weight_matrix(sigma=sigma,n=len(dist_matrix)) \n",
      "    \n",
      "    mismatch = np.dot(dist_matrix,weight_matrix)\n",
      "    \n",
      "    #encontra os indices e os valores minimos por linha \n",
      "    idx_m = np.argmin(mismatch,axis=1)\n",
      "    val_m = mismatch[np.arange(mat_size),idx_m]\n",
      "    \n",
      "    mx = max(val_m)\n",
      "    #print 0.1*np.sign((mat_size/2. - idx_m + 1.))*val_m/mx\n",
      "    sort_score = idx_m + 1. - 0.1*np.sign((mat_size/2. - idx_m + 1.))*val_m/mx\n",
      "    sorted_ind = np.argsort(sort_score)\n",
      "    print np.argsort(idx_m)\n",
      "    print sorted_ind\n",
      "    erg = np.trace(np.dot(dist_matrix[np.meshgrid(sorted_ind,sorted_ind)],weight_matrix))\n",
      "    return sorted_ind, sort_score, mismatch, erg"
     ],
     "language": "python",
     "metadata": {},
     "outputs": [],
     "prompt_number": 42
    },
    {
     "cell_type": "code",
     "collapsed": false,
     "input": [
      "np.sign(np.array([[-2,-7,42],[0,0,1],[2,7,1]]))"
     ],
     "language": "python",
     "metadata": {},
     "outputs": [
      {
       "metadata": {},
       "output_type": "pyout",
       "prompt_number": 27,
       "text": [
        "array([[-1, -1,  1],\n",
        "       [ 0,  0,  1],\n",
        "       [ 1,  1,  1]])"
       ]
      }
     ],
     "prompt_number": 27
    },
    {
     "cell_type": "code",
     "collapsed": false,
     "input": [
      "def make_weight_matrix( sigma, n ):\n",
      "    [i,j] = meshgrid(range(n),range(n))\n",
      "    w = np.exp(-(i-j)**2./sigma/n)\n",
      "    for i in range(10):\n",
      "        w = w/np.reshape(np.sum(w,axis=1),(n,1))\n",
      "        w = w/np.sum(w,axis=0)\n",
      "    w = 0.5*(w+w.T)\n",
      "    return w"
     ],
     "language": "python",
     "metadata": {},
     "outputs": [],
     "prompt_number": 4
    },
    {
     "cell_type": "code",
     "collapsed": false,
     "input": [
      "#data =  pd.read_csv('Melanoma_data_normalized_Z.csv'\n",
      "#                     ,index_col=0\n",
      "#                     ,header=0).T\n",
      "#y    = data.values[0]\n",
      "#data = data.drop(data.index[0])\n",
      "#metabolitos = [ n.split('_')[0] for n in data.columns]\n",
      "#data.columns = metabolitos\n",
      "\n",
      "#X    = data.astype(np.float)\n",
      "\n",
      "#D = squareform(pdist(X.values.T))"
     ],
     "language": "python",
     "metadata": {},
     "outputs": [],
     "prompt_number": 6
    },
    {
     "cell_type": "code",
     "collapsed": false,
     "input": [
      "#D = np.genfromtxt(\"ER_geo.txt\")\n",
      "#D = np.genfromtxt(\"deleteme.txt\")\n",
      "#X,y = make_classification(n_samples=100)\n",
      "\n",
      "iris = load_iris()\n",
      "X = iris.data[:20]\n",
      "y = iris.target[:20]\n",
      "D = squareform(pdist(X))"
     ],
     "language": "python",
     "metadata": {},
     "outputs": [],
     "prompt_number": 29
    },
    {
     "cell_type": "code",
     "collapsed": false,
     "input": [
      "def spin ( D, y):\n",
      "    si = range(len(D))\n",
      "    np.random.shuffle(si)\n",
      "    sigma = 2**5.\n",
      "    for j in range(6):\n",
      "        w = make_weight_matrix(sigma,len(D))\n",
      "        out = []\n",
      "        for i in range(20):\n",
      "            y = y[si]\n",
      "            D = D[np.meshgrid(si,si)]\n",
      "            si, se, mm, e = neighborhood_sort(D,sigma,w)\n",
      "            if e in out:\n",
      "                break\n",
      "            else: \n",
      "                out = out + [e]\n",
      "            #print sigma, i, e\n",
      "        sigma = sigma/2.0    \n",
      "        #print e\n",
      "    return D, y "
     ],
     "language": "python",
     "metadata": {},
     "outputs": [],
     "prompt_number": 30
    },
    {
     "cell_type": "code",
     "collapsed": false,
     "input": [
      "spin(D,y)"
     ],
     "language": "python",
     "metadata": {},
     "outputs": [
      {
       "output_type": "stream",
       "stream": "stdout",
       "text": [
        "[ 0  1 16 14  4 13  6  7 10  9  8 11 12  5  3 15  2 17 18 19]\n",
        "[14  4  1  0 10 13 16  7  6  9  8 18  5 11 17 12 15  2 19  3]\n",
        "[ 0  8  7  6  5  9  3  2  1  4 10 12 11 18 13 14 15 16 17 19]\n",
        "[ 0  1  2  3  4  5  7  6  8  9 10 12 11 13 14 15 16 17 18 19]\n",
        "[ 0  8  7  6  5  9  3  2  1  4 10 11 12 18 13 14 15 16 17 19]\n",
        "[ 0  1  2  3  4  5  6  7  8  9 10 11 12 13 14 15 16 17 18 19]\n",
        "[ 0  8  7  6  5  9  3  2  1  4 11 10 12 18 13 14 15 16 17 19]\n",
        "[ 0  1  5  2  3  4  6  8  7  9 11 10 12 13 14 15 16 17 18 19]\n",
        "[ 0  8  7  6  5  9  3  2  1  4 10 11 12 18 13 14 15 16 17 19]\n",
        "[ 0  1  3  4  5  2  6  7  8  9 10 11 12 13 14 15 16 17 18 19]\n",
        "[ 0  8  7  6  5  9  3  2  1  4 10 11 12 18 13 14 15 16 17 19]\n",
        "[ 0  1  2  5  3  4  6  7  8  9 10 11 12 13 14 15 16 17 18 19]\n",
        "[ 0  8  7  6  5  9  3  2  1  4 10 11 12 18 13 14 15 16 17 19]\n",
        "[ 0  1  2  4  5  3  6  7  8  9 10 11 12 13 14 15 16 17 18 19]\n",
        "[ 0  1  2  3  4  5  6  7  8  9 10 11 12 13 14 15 16 17 18 19]\n",
        "[ 0  1  5  7  4  3  6  2  8  9 10 11 12 14 13 15 16 17 18 19]\n",
        "[ 0  1  2  3  4  5  6  7  8  9 10 11 12 13 14 15 16 17 18 19]\n",
        "[ 0  1  2  4  5  3  7  6  8  9 10 12 11 13 14 15 16 17 18 19]\n",
        "[ 0  1  2  3  4  5  6  7  8  9 10 11 12 13 14 15 16 17 18 19]\n",
        "[ 0  1  2  3  5  4  6  7  8  9 10 11 12 13 14 15 16 17 18 19]\n",
        "[ 0  1  2  3  4  5  6  7  8  9 10 11 12 13 14 15 16 17 18 19]\n",
        "[ 0  1  2  3  4  5  6  7  8  9 10 11 12 13 14 15 16 17 18 19]\n",
        "[ 0  1  2  3  5  6  8  7  4  9 10 11 12 14 13 15 16 17 18 19]\n",
        "[ 0  1  2  3  5  6  8  7  4  9 10 11 12 14 13 15 16 17 18 19]\n",
        "[ 0  1  2  3  4  5  6  7  8  9 10 11 12 13 14 15 16 17 18 19]\n",
        "[ 0  1  2  3  4  5  6  7  8  9 10 11 12 13 14 15 16 17 18 19]\n",
        "[ 0  1  5  4  6  2  3  7  8  9 10 11 12 13 14 15 16 17 18 19]\n",
        "[ 0  1  5  4  6  2  3  7  8  9 10 11 12 13 14 15 16 17 18 19]\n",
        "[ 0  1  2  3  4  6  5  7  8  9 10 11 12 13 14 15 16 17 18 19]\n",
        "[ 0  1  2  3  4  6  5  7  8  9 10 11 12 13 14 15 16 17 18 19]\n",
        "[ 0  1  2  3  4  5  6  7  8  9 10 11 12 13 14 15 16 17 18 19]\n",
        "[ 0  1  2  3  4  5  6  7  8  9 10 11 12 13 14 15 16 17 18 19]\n",
        "[ 0  1  2  3  4  5  6  7  8  9 10 12 11 13 14 15 16 17 18 19]\n",
        "[ 0  1  2  3  5  4  6  7  8  9 10 12 11 13 14 15 16 17 18 19]\n",
        "[ 0  1  2  3  4  5  7  6  8  9 10 11 12 13 14 15 16 17 18 19]\n",
        "[ 0  1  2  3  4  5  7  6  8  9 10 11 12 13 14 15 16 17 18 19]\n",
        "[ 0  1  2  3  4  5  6  7  8  9 10 11 12 13 14 15 16 17 18 19]\n",
        "[ 0  1  2  3  4  5  6  7  8  9 10 11 12 13 14 15 16 17 18 19]\n"
       ]
      },
      {
       "metadata": {},
       "output_type": "pyout",
       "prompt_number": 43,
       "text": [
        "(array([[ 0.        ,  0.34641016,  0.51961524,  0.58309519,  0.678233  ,\n",
        "         0.5       ,  0.72801099,  0.6164414 ,  0.81853528,  0.90553851,\n",
        "         0.97467943,  0.99498744,  1.00995049,  1.21655251,  1.36747943,\n",
        "         1.46628783,  1.57162336,  1.73205081,  1.80831413,  2.04205779],\n",
        "       [ 0.34641016,  0.        ,  0.3       ,  0.42426407,  0.50990195,\n",
        "         0.43588989,  0.55677644,  0.54772256,  0.67082039,  0.78740079,\n",
        "         0.92195445,  0.92195445,  0.92736185,  1.14891253,  1.28452326,\n",
        "         1.43178211,  1.45945195,  1.61245155,  1.79164729,  1.99749844],\n",
        "       [ 0.51961524,  0.3       ,  0.        ,  0.26457513,  0.33166248,\n",
        "         0.24494897,  0.31622777,  0.33166248,  0.37416574,  0.5       ,\n",
        "         0.64807407,  0.64807407,  0.65574385,  0.8660254 ,  1.        ,\n",
        "         1.16619038,  1.16619038,  1.32287566,  1.52970585,  1.71464282],\n",
        "       [ 0.58309519,  0.42426407,  0.26457513,  0.        ,  0.14142136,\n",
        "         0.26457513,  0.17320508,  0.48989795,  0.45825757,  0.46904158,\n",
        "         0.64031242,  0.59160798,  0.6164414 ,  0.88317609,  0.93273791,\n",
        "         1.12694277,  1.161895  ,  1.25698051,  1.43178211,  1.69410743],\n",
        "       [ 0.678233  ,  0.50990195,  0.33166248,  0.14142136,  0.        ,\n",
        "         0.3       ,  0.17320508,  0.50990195,  0.45825757,  0.42426407,\n",
        "         0.60827625,  0.53851648,  0.54772256,  0.83666003,  0.8660254 ,\n",
        "         1.05356538,  1.09087121,  1.17473401,  1.36014705,  1.62788206],\n",
        "       [ 0.5       ,  0.43588989,  0.24494897,  0.26457513,  0.3       ,\n",
        "         0.        ,  0.31622777,  0.26457513,  0.37416574,  0.41231056,\n",
        "         0.50990195,  0.50990195,  0.51961524,  0.75498344,  0.88317609,\n",
        "         1.00995049,  1.08627805,  1.23693169,  1.36381817,  1.58745079],\n",
        "       [ 0.72801099,  0.55677644,  0.31622777,  0.17320508,  0.17320508,\n",
        "         0.31622777,  0.        ,  0.47958315,  0.34641016,  0.33166248,\n",
        "         0.52915026,  0.46904158,  0.5       ,  0.75498344,  0.78740079,\n",
        "         1.00995049,  1.00995049,  1.1       ,  1.3114877 ,  1.55563492],\n",
        "       [ 0.6164414 ,  0.54772256,  0.33166248,  0.48989795,  0.50990195,\n",
        "         0.26457513,  0.47958315,  0.        ,  0.3       ,  0.42426407,\n",
        "         0.45825757,  0.51961524,  0.50990195,  0.64807407,  0.8660254 ,\n",
        "         0.9539392 ,  0.99498744,  1.2083046 ,  1.36014705,  1.49331845],\n",
        "       [ 0.81853528,  0.67082039,  0.37416574,  0.45825757,  0.45825757,\n",
        "         0.37416574,  0.34641016,  0.3       ,  0.        ,  0.2236068 ,\n",
        "         0.34641016,  0.37416574,  0.38729833,  0.51961524,  0.678233  ,\n",
        "         0.86023253,  0.81240384,  0.99498744,  1.2328828 ,  1.36381817],\n",
        "       [ 0.90553851,  0.78740079,  0.5       ,  0.46904158,  0.42426407,\n",
        "         0.41231056,  0.33166248,  0.42426407,  0.2236068 ,  0.        ,\n",
        "         0.2236068 ,  0.17320508,  0.2       ,  0.42426407,  0.5       ,\n",
        "         0.7       ,  0.7       ,  0.83666003,  1.04403065,  1.23693169],\n",
        "       [ 0.97467943,  0.92195445,  0.64807407,  0.64031242,  0.60827625,\n",
        "         0.50990195,  0.52915026,  0.45825757,  0.34641016,  0.2236068 ,\n",
        "         0.        ,  0.14142136,  0.17320508,  0.26457513,  0.42426407,\n",
        "         0.54772256,  0.6164414 ,  0.79372539,  0.91651514,  1.08627805],\n",
        "       [ 0.99498744,  0.92195445,  0.64807407,  0.59160798,  0.53851648,\n",
        "         0.50990195,  0.46904158,  0.51961524,  0.37416574,  0.17320508,\n",
        "         0.14142136,  0.        ,  0.1       ,  0.33166248,  0.37416574,\n",
        "         0.54772256,  0.6164414 ,  0.74161985,  0.88317609,  1.1045361 ],\n",
        "       [ 1.00995049,  0.92736185,  0.65574385,  0.6164414 ,  0.54772256,\n",
        "         0.51961524,  0.5       ,  0.50990195,  0.38729833,  0.2       ,\n",
        "         0.17320508,  0.1       ,  0.        ,  0.31622777,  0.38729833,\n",
        "         0.51961524,  0.59160798,  0.73484692,  0.88881944,  1.09087121],\n",
        "       [ 1.21655251,  1.14891253,  0.8660254 ,  0.88317609,  0.83666003,\n",
        "         0.75498344,  0.75498344,  0.64807407,  0.51961524,  0.42426407,\n",
        "         0.26457513,  0.33166248,  0.31622777,  0.        ,  0.33166248,\n",
        "         0.38729833,  0.38729833,  0.63245553,  0.79372539,  0.85440037],\n",
        "       [ 1.36747943,  1.28452326,  1.        ,  0.93273791,  0.8660254 ,\n",
        "         0.88317609,  0.78740079,  0.8660254 ,  0.678233  ,  0.5       ,\n",
        "         0.42426407,  0.37416574,  0.38729833,  0.33166248,  0.        ,\n",
        "         0.34641016,  0.34641016,  0.38729833,  0.58309519,  0.78740079],\n",
        "       [ 1.46628783,  1.43178211,  1.16619038,  1.12694277,  1.05356538,\n",
        "         1.00995049,  1.00995049,  0.9539392 ,  0.86023253,  0.7       ,\n",
        "         0.54772256,  0.54772256,  0.51961524,  0.38729833,  0.34641016,\n",
        "         0.        ,  0.4       ,  0.51961524,  0.46904158,  0.6164414 ],\n",
        "       [ 1.57162336,  1.45945195,  1.16619038,  1.161895  ,  1.09087121,\n",
        "         1.08627805,  1.00995049,  0.99498744,  0.81240384,  0.7       ,\n",
        "         0.6164414 ,  0.6164414 ,  0.59160798,  0.38729833,  0.34641016,\n",
        "         0.4       ,  0.        ,  0.33166248,  0.678233  ,  0.6164414 ],\n",
        "       [ 1.73205081,  1.61245155,  1.32287566,  1.25698051,  1.17473401,\n",
        "         1.23693169,  1.1       ,  1.2083046 ,  0.99498744,  0.83666003,\n",
        "         0.79372539,  0.74161985,  0.73484692,  0.63245553,  0.38729833,\n",
        "         0.51961524,  0.33166248,  0.        ,  0.55677644,  0.64031242],\n",
        "       [ 1.80831413,  1.79164729,  1.52970585,  1.43178211,  1.36014705,\n",
        "         1.36381817,  1.3114877 ,  1.36014705,  1.2328828 ,  1.04403065,\n",
        "         0.91651514,  0.88317609,  0.88881944,  0.79372539,  0.58309519,\n",
        "         0.46904158,  0.678233  ,  0.55677644,  0.        ,  0.54772256],\n",
        "       [ 2.04205779,  1.99749844,  1.71464282,  1.69410743,  1.62788206,\n",
        "         1.58745079,  1.55563492,  1.49331845,  1.36381817,  1.23693169,\n",
        "         1.08627805,  1.1045361 ,  1.09087121,  0.85440037,  0.78740079,\n",
        "         0.6164414 ,  0.6164414 ,  0.64031242,  0.54772256,  0.        ]]),\n",
        " array([0, 0, 0, 0, 0, 0, 0, 0, 0, 0, 0, 0, 0, 0, 0, 0, 0, 0, 0, 0]))"
       ]
      }
     ],
     "prompt_number": 43
    },
    {
     "cell_type": "code",
     "collapsed": false,
     "input": [
      "matrix_plot(D)"
     ],
     "language": "python",
     "metadata": {},
     "outputs": [
      {
       "metadata": {},
       "output_type": "display_data",
       "png": "[encoded data removed]",
       "text": [
        "<matplotlib.figure.Figure at 0x48dea10>"
       ]
      }
     ],
     "prompt_number": 48
    },
    {
     "cell_type": "code",
     "collapsed": false,
     "input": [
      "import numpy"
     ],
     "language": "python",
     "metadata": {},
     "outputs": [],
     "prompt_number": 50
    },
    {
     "cell_type": "code",
     "collapsed": false,
     "input": [
      "reload(numpy)"
     ],
     "language": "python",
     "metadata": {},
     "outputs": [
      {
       "metadata": {},
       "output_type": "pyout",
       "prompt_number": 51,
       "text": [
        "<module 'numpy' from '/home/jonatas/.virtualenvs/py/local/lib/python2.7/site-packages/numpy/__init__.pyc'>"
       ]
      }
     ],
     "prompt_number": 51
    },
    {
     "cell_type": "code",
     "collapsed": false,
     "input": [],
     "language": "python",
     "metadata": {},
     "outputs": []
    }
   ],
   "metadata": {}
  }
 ]
}